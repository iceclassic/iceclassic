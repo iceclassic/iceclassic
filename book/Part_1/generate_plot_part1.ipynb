{
 "cells": [
  {
   "cell_type": "markdown",
   "metadata": {},
   "source": []
  },
  {
   "cell_type": "code",
   "execution_count": null,
   "metadata": {},
   "outputs": [],
   "source": [
    "import numpy as np\n",
    "import matplotlib.pyplot as plt\n",
    "import pandas as pd"
   ]
  },
  {
   "cell_type": "code",
   "execution_count": null,
   "metadata": {},
   "outputs": [],
   "source": [
    "\n",
    "MUDE_gueses=pd.read_csv(\"../../data/Prediction_2024.txt\",skiprows=149,index_col=0)"
   ]
  },
  {
   "cell_type": "code",
   "execution_count": null,
   "metadata": {},
   "outputs": [],
   "source": [
    "# Create subplots with adjusted size ratio\n",
    "fig, axs = plt.subplots(2, 2, figsize=(15, 10), gridspec_kw={'width_ratios': [1, 4], 'height_ratios': [4, 1]})\n",
    "\n",
    "# Scatter plot in top right corner\n",
    "axs[0, 1].scatter(MUDE_guese['datetime'], time_decimal)\n",
    "axs[0, 1].set_xlabel('Date (Month-Day)')\n",
    "axs[0, 1].set_ylabel('Decimal Time')\n",
    "axs[0, 1].set_title('2024 - MUDE Guesses')\n",
    "\n",
    "# Calculate mean of x and mean of y\n",
    "mean_x = MUDE_guese['datetime'].mean()\n",
    "mean_y = time_decimal.mean()\n",
    "\n",
    "# Plot mean of x and mean of y as points on the scatter plot\n",
    "axs[0, 1].scatter(mean_x, mean_y, color='red', s=60,label=\"mean\")  # 'ro' for red color and circle marker\n",
    "# Add scatter point for 5:18 AM on the 27th of April\n",
    "specific_time = pd.Timestamp('2024-04-27 05:18:00')\n",
    "specific_time_decimal = specific_time.hour + specific_time.minute / 60\n",
    "axs[0, 1].scatter(specific_time, specific_time_decimal, color='magenta', marker='*',s=200, label='break-up date')\n",
    "# Add vertical and horizontal lines associated with the mean point\n",
    "axs[0, 1].axvline(x=mean_x, color='gray', linestyle='--')  # Vertical line\n",
    "axs[0, 1].axhline(y=mean_y, color='gray', linestyle='--')  # Horizontal line\n",
    "\n",
    "# Set x-axis format to display only month and day and ticks separated by 5 days\n",
    "axs[0, 1].xaxis.set_major_formatter(mdates.DateFormatter('%m-%d'))\n",
    "axs[0, 1].xaxis.set_major_locator(mdates.DayLocator(interval=5))\n",
    "axs[0, 1].legend()\n",
    "# Density plot for x-axis in position (2, 2)\n",
    "sns.kdeplot(data=ice_data['datetime'].dt.dayofyear, ax=axs[1, 1], color='red', alpha=0.3)\n",
    "axs[1, 1].set_ylabel('Density')\n",
    "axs[1, 1].set_yticklabels([])  # Remove y-axis labels\n",
    "axs[1, 1].set_xlabel('')\n",
    "axs[1, 1].invert_yaxis()\n",
    "\n",
    "# Density plot for x-axis in position (0, 0)\n",
    "sns.kdeplot(y=time_decimal, ax=axs[0, 0], color='blue', alpha=0.3)\n",
    "axs[0, 0].set_xlabel('Density')\n",
    "axs[0, 0].set_ylabel('')\n",
    "axs[0, 0].invert_yaxis()\n",
    "axs[0, 0].invert_xaxis()\n",
    "\n",
    "# Remove ticks from side plots\n",
    "axs[0, 0].set_xticks([])\n",
    "axs[0, 0].set_yticks([])\n",
    "axs[1, 1].set_xticks([])\n",
    "axs[1, 1].set_yticks([])\n",
    "\n",
    "# Hide the empty subplot\n",
    "axs[1, 0].axis('off')\n",
    "\n",
    "plt.tight_layout()  # Adjust layout to prevent overlapping\n",
    "plt.show()"
   ]
  }
 ],
 "metadata": {
  "kernelspec": {
   "display_name": "Advanced_dynamics",
   "language": "python",
   "name": "python3"
  },
  "language_info": {
   "name": "python",
   "version": "3.10.9"
  }
 },
 "nbformat": 4,
 "nbformat_minor": 2
}
